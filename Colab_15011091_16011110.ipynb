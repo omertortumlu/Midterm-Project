{
  "nbformat": 4,
  "nbformat_minor": 0,
  "metadata": {
    "colab": {
      "name": "Colab_15011091_16011110.ipynb",
      "provenance": [],
      "collapsed_sections": [],
      "machine_shape": "hm"
    },
    "kernelspec": {
      "name": "python3",
      "display_name": "Python 3"
    },
    "accelerator": "GPU"
  },
  "cells": [
    {
      "cell_type": "code",
      "metadata": {
        "colab_type": "code",
        "id": "tkG6yjra1E_S",
        "outputId": "ee0d44a5-923d-4c08-8849-55b685ebc106",
        "colab": {
          "base_uri": "https://localhost:8080/",
          "height": 128
        }
      },
      "source": [
        "#Dataseti çekmek için Drive a bağlanıyoruz\n",
        "from google.colab import drive\n",
        "drive.mount('/content/gdrive')"
      ],
      "execution_count": 0,
      "outputs": [
        {
          "output_type": "stream",
          "text": [
            "Go to this URL in a browser: https://accounts.google.com/o/oauth2/auth?client_id=947318989803-6bn6qk8qdgf4n4g3pfee6491hc0brc4i.apps.googleusercontent.com&redirect_uri=urn%3aietf%3awg%3aoauth%3a2.0%3aoob&response_type=code&scope=email%20https%3a%2f%2fwww.googleapis.com%2fauth%2fdocs.test%20https%3a%2f%2fwww.googleapis.com%2fauth%2fdrive%20https%3a%2f%2fwww.googleapis.com%2fauth%2fdrive.photos.readonly%20https%3a%2f%2fwww.googleapis.com%2fauth%2fpeopleapi.readonly\n",
            "\n",
            "Enter your authorization code:\n",
            "··········\n",
            "Mounted at /content/gdrive\n"
          ],
          "name": "stdout"
        }
      ]
    },
    {
      "cell_type": "code",
      "metadata": {
        "id": "ucmyhEi3dIkM",
        "colab_type": "code",
        "outputId": "960b8d2d-3048-45a7-9855-2e70697c1e97",
        "colab": {
          "base_uri": "https://localhost:8080/",
          "height": 83
        }
      },
      "source": [
        "#Kullanılan sınıflar\n",
        "import cv2\n",
        "import tensorflow as tf\n",
        "import keras\n",
        "from keras import backend as K\n",
        "from keras.optimizers import SGD, Adam, Adamax, Nadam, RMSprop, Adagrad, Adadelta\n",
        "from keras.callbacks import ModelCheckpoint\n",
        "from keras.metrics import categorical_crossentropy\n",
        "from keras.preprocessing.image import ImageDataGenerator\n",
        "from keras.models import Model,Sequential, model_from_json\n",
        "from keras.layers import Dense, GlobalAveragePooling2D, Dropout,SeparableConv2D,BatchNormalization, Activation, Conv2D, MaxPooling2D, Flatten\n",
        "from keras.applications.inception_v3 import InceptionV3\n",
        "from keras.applications.xception import Xception\n",
        "from keras.applications.mobilenet import MobileNet\n",
        "from keras.applications.mobilenet import preprocess_input\n",
        "from keras.applications.inception_v3 import preprocess_input\n",
        "from keras.applications.xception import  preprocess_input    \n",
        "import numpy as np\n",
        "import skimage.io as io\n",
        "from skimage.transform import resize\n",
        "import matplotlib.pyplot as plt\n",
        "import os\n",
        "from sklearn.metrics import confusion_matrix\n",
        "import itertools  \n",
        "from google.colab import files\n",
        "\n",
        "h='HuSHeM'\n",
        "s='SMIDS'\n",
        "#Ayarlamalar\n",
        "folds=['fold1'] #['fold1', 'fold2', 'fold3','fold4','fold5']\n",
        "_activations=['softplus'] #['softmax', 'softplus', 'hard-sigmoid','sigmoid']\n",
        "_optimizers=['sgd'] #['adam',  'adamax','sgd']\n",
        "mdl='MobileNet' #Xception-InceptionV3-MobileNet\n",
        "dat=s # kullanılmak istenen dataset\n",
        "\n",
        "augment=1\n",
        "batch_size=90\n",
        "epochs=10\n",
        "\n",
        "if(dat=='s'):\n",
        "  img_size=170  #HuSHeM İÇİN 131 ----SMIDS İÇİN 170\n",
        "  CLASSES = 3 #Hushem için 4 SMIDS için 3\n",
        "else:\n",
        "  img_size=131\n",
        "  CLASSES = 4"
      ],
      "execution_count": 0,
      "outputs": [
        {
          "output_type": "display_data",
          "data": {
            "text/html": [
              "<p style=\"color: red;\">\n",
              "The default version of TensorFlow in Colab will soon switch to TensorFlow 2.x.<br>\n",
              "We recommend you <a href=\"https://www.tensorflow.org/guide/migrate\" target=\"_blank\">upgrade</a> now \n",
              "or ensure your notebook will continue to use TensorFlow 1.x via the <code>%tensorflow_version 1.x</code> magic:\n",
              "<a href=\"https://colab.research.google.com/notebooks/tensorflow_version.ipynb\" target=\"_blank\">more info</a>.</p>\n"
            ],
            "text/plain": [
              "<IPython.core.display.HTML object>"
            ]
          },
          "metadata": {
            "tags": []
          }
        },
        {
          "output_type": "stream",
          "text": [
            "Using TensorFlow backend.\n"
          ],
          "name": "stderr"
        }
      ]
    },
    {
      "cell_type": "code",
      "metadata": {
        "id": "4jLy1ogadhXA",
        "colab_type": "code",
        "colab": {}
      },
      "source": [
        "def one_hot_encode(labels):\n",
        "\n",
        "# we use one hot encode method to represent the classes\n",
        "    encoded = np.zeros((len(labels), CLASSES))\n",
        "    for idx, val in enumerate(labels):\n",
        "        encoded[idx][val] = 1\n",
        "    return encoded"
      ],
      "execution_count": 0,
      "outputs": []
    },
    {
      "cell_type": "code",
      "metadata": {
        "id": "Pf4v5sZZd-u1",
        "colab_type": "code",
        "colab": {}
      },
      "source": [
        "#v fold1-fold2-fold3-fold4-fold5\n",
        "#type Train/Test\n",
        "def data_prep(dataset,v,type):\n",
        "    train_labels=[]\n",
        "    image_dataset=[]\n",
        "    if(dataset=='HuSHeM'):     \n",
        "      foldnames=['01_Normal','02_Tapered','03_Pyriform','04_Amorphous']\n",
        "      print('HuSHeM veriseti okunuyor...')\n",
        "    else:\n",
        "      foldnames=['Acrosome Abnormality','Boya','Sperm']\n",
        "      print('SMIDS veriseti okunuyor...')\n",
        "    print(foldnames)\n",
        "    for j, k in enumerate(foldnames):     \n",
        "      directory='/content/gdrive/My Drive/Proje/'+dataset+'/'+v+'/'+type+'/'+k\n",
        "      class_names = next(os.walk(directory))\n",
        "      for cs in class_names[2]:\n",
        "        path=''+directory+'/'+cs\n",
        "        #train_roots.append(path)\n",
        "        img=io.imread(path)\n",
        "        img= resize(img, (img_size, img_size,3),anti_aliasing=True)\n",
        "        image_dataset.append(img)\n",
        "        train_labels.append(j)\n",
        "    image_dataset=np.asarray(image_dataset)\n",
        "    encoded=one_hot_encode(train_labels)\n",
        "    print('okudu')\n",
        "    return image_dataset,encoded"
      ],
      "execution_count": 0,
      "outputs": []
    },
    {
      "cell_type": "code",
      "metadata": {
        "id": "VP3w_QRf1u1O",
        "colab_type": "code",
        "colab": {}
      },
      "source": [
        "def mdlcmp(opt,act):\n",
        "  # setup model\n",
        "  if(mdl=='MobileNet'):\n",
        "    base_model = MobileNet(weights='imagenet', include_top=False, input_shape=(img_size, img_size, 3))\n",
        "  elif(mdl=='Xception'):\n",
        "    base_model = Xception(weights='imagenet', include_top=False, input_shape=(img_size, img_size, 3))\n",
        "  else:\n",
        "    base_model = InceptionV3(weights='imagenet', include_top=False, input_shape=(img_size, img_size, 3))\n",
        "  \n",
        "  # transfer learning \n",
        "  x = base_model.output\n",
        "  x = Flatten()(x)\n",
        "  predictions = Dense(CLASSES, activation=act)(x)\n",
        "  model = Model(inputs=base_model.input, outputs=predictions)\n",
        "  #Model Compile     \n",
        "  model.compile(optimizer=opt,\n",
        "                loss='categorical_crossentropy',\n",
        "                metrics=['accuracy'])\n",
        "  callbacks_list = [keras.callbacks.EarlyStopping(monitor='acc', mode='max', patience=3, verbose=1)]\n",
        "  return model"
      ],
      "execution_count": 0,
      "outputs": []
    },
    {
      "cell_type": "code",
      "metadata": {
        "id": "x_rxFH4CHT4S",
        "colab_type": "code",
        "colab": {}
      },
      "source": [
        "#Data Augmentation veri çoğaltma\n",
        "def datagen():\n",
        "    datagen = ImageDataGenerator(\n",
        "              rotation_range=20,\n",
        "              zoom_range=0.15,\n",
        "              width_shift_range=0.2,\n",
        "              height_shift_range=0.2, \n",
        "              shear_range=0.15,\n",
        "              horizontal_flip=True, \n",
        "              fill_mode=\"nearest\")\n",
        "    return datagen"
      ],
      "execution_count": 0,
      "outputs": []
    },
    {
      "cell_type": "code",
      "metadata": {
        "id": "cMj11FkyAI6y",
        "colab_type": "code",
        "outputId": "5a2f2b26-5f35-4c32-f54f-4526e3b18ca8",
        "colab": {
          "base_uri": "https://localhost:8080/",
          "height": 1000
        }
      },
      "source": [
        "#Model eğitimi ve sonuçların kaydedilmesi\n",
        "scoreses=[]\n",
        "for i, v in enumerate(folds): #fold fold data okunuyor, ['fold1', 'fold2', 'fold3','fold4','fold5']\n",
        "  prnt = \"'!!!!!!!!!!!!!!! FOLD-{} TRAIN !!!!!!!!!!!!!!!!!!!'\" \n",
        "  #Data hazırlanıyor   \n",
        "  train,train_label=data_prep(dat,v,'train')\n",
        "  test,test_label=data_prep(dat,v,'test')\n",
        "  #Activasion ve optimizerlar değştirilerek model sonuçları elde ediliyor\n",
        "  for k, a in enumerate(_activations): #11 tane aktivasyon parametresi,['softmax', 'softplus', 'hard-sigmoid','sigmoid']\n",
        "    for j, o in enumerate(_optimizers): #7 tane optimizer parametresi,'rmsprop','adagrad', 'nadam','adadelta' 'adam','adamax',\n",
        "      print(a,o,prnt.format(v)) \n",
        "      #Model compile ediliyor \n",
        "      model=mdlcmp(o,a)    \n",
        "      #Data augmentation yapılıyor\n",
        "      aug=datagen()\n",
        "      epoch_step = ((len(train) *  augment) // batch_size) + 1\n",
        "      print('Steps per epoch:',epoch_step,' Train length:',len(train))\n",
        "      #Model EĞİTİLİYOR\n",
        "      history = model.fit_generator(aug.flow(train, train_label, batch_size=batch_size),\n",
        "                                    steps_per_epoch=epoch_step,\n",
        "                                    epochs=epochs)                             \n",
        "      #Model sonuçları test ediliyor\n",
        "      print(a,o,'TestFold {',i+1,'}')\n",
        "      scores = model.evaluate(test,test_label, verbose=1)\n",
        "      print('Test loss:', scores[0])\n",
        "      print('Test accuracy:', scores[1],'\\n')\n",
        "      #Sonuçlar kaydediliyor\n",
        "      scoreses.append(scores) \n",
        "         "
      ],
      "execution_count": 0,
      "outputs": [
        {
          "output_type": "stream",
          "text": [
            "SMIDS veriseti okunuyor...\n",
            "['Acrosome Abnormality', 'Boya', 'Sperm']\n",
            "okudu\n",
            "SMIDS veriseti okunuyor...\n",
            "['Acrosome Abnormality', 'Boya', 'Sperm']\n",
            "okudu\n",
            "softplus sgd '!!!!!!!!!!!!!!! FOLD-fold1 TRAIN !!!!!!!!!!!!!!!!!!!'\n",
            "WARNING:tensorflow:From /usr/local/lib/python3.6/dist-packages/keras/backend/tensorflow_backend.py:66: The name tf.get_default_graph is deprecated. Please use tf.compat.v1.get_default_graph instead.\n",
            "\n",
            "WARNING:tensorflow:From /usr/local/lib/python3.6/dist-packages/keras/backend/tensorflow_backend.py:541: The name tf.placeholder is deprecated. Please use tf.compat.v1.placeholder instead.\n",
            "\n",
            "WARNING:tensorflow:From /usr/local/lib/python3.6/dist-packages/keras/backend/tensorflow_backend.py:4432: The name tf.random_uniform is deprecated. Please use tf.random.uniform instead.\n",
            "\n",
            "WARNING:tensorflow:From /usr/local/lib/python3.6/dist-packages/keras/backend/tensorflow_backend.py:190: The name tf.get_default_session is deprecated. Please use tf.compat.v1.get_default_session instead.\n",
            "\n",
            "WARNING:tensorflow:From /usr/local/lib/python3.6/dist-packages/keras/backend/tensorflow_backend.py:197: The name tf.ConfigProto is deprecated. Please use tf.compat.v1.ConfigProto instead.\n",
            "\n",
            "WARNING:tensorflow:From /usr/local/lib/python3.6/dist-packages/keras/backend/tensorflow_backend.py:203: The name tf.Session is deprecated. Please use tf.compat.v1.Session instead.\n",
            "\n"
          ],
          "name": "stdout"
        },
        {
          "output_type": "stream",
          "text": [
            "/usr/local/lib/python3.6/dist-packages/keras_applications/mobilenet.py:207: UserWarning: `input_shape` is undefined or non-square, or `rows` is not in [128, 160, 192, 224]. Weights for input shape (224, 224) will be loaded as the default.\n",
            "  warnings.warn('`input_shape` is undefined or non-square, '\n"
          ],
          "name": "stderr"
        },
        {
          "output_type": "stream",
          "text": [
            "WARNING:tensorflow:From /usr/local/lib/python3.6/dist-packages/keras/backend/tensorflow_backend.py:207: The name tf.global_variables is deprecated. Please use tf.compat.v1.global_variables instead.\n",
            "\n",
            "WARNING:tensorflow:From /usr/local/lib/python3.6/dist-packages/keras/backend/tensorflow_backend.py:216: The name tf.is_variable_initialized is deprecated. Please use tf.compat.v1.is_variable_initialized instead.\n",
            "\n",
            "WARNING:tensorflow:From /usr/local/lib/python3.6/dist-packages/keras/backend/tensorflow_backend.py:223: The name tf.variables_initializer is deprecated. Please use tf.compat.v1.variables_initializer instead.\n",
            "\n",
            "WARNING:tensorflow:From /usr/local/lib/python3.6/dist-packages/keras/backend/tensorflow_backend.py:2041: The name tf.nn.fused_batch_norm is deprecated. Please use tf.compat.v1.nn.fused_batch_norm instead.\n",
            "\n",
            "WARNING:tensorflow:From /usr/local/lib/python3.6/dist-packages/keras/backend/tensorflow_backend.py:148: The name tf.placeholder_with_default is deprecated. Please use tf.compat.v1.placeholder_with_default instead.\n",
            "\n",
            "Downloading data from https://github.com/fchollet/deep-learning-models/releases/download/v0.6/mobilenet_1_0_224_tf_no_top.h5\n",
            "17227776/17225924 [==============================] - 2s 0us/step\n",
            "WARNING:tensorflow:From /usr/local/lib/python3.6/dist-packages/keras/optimizers.py:793: The name tf.train.Optimizer is deprecated. Please use tf.compat.v1.train.Optimizer instead.\n",
            "\n",
            "WARNING:tensorflow:From /usr/local/lib/python3.6/dist-packages/keras/backend/tensorflow_backend.py:3576: The name tf.log is deprecated. Please use tf.math.log instead.\n",
            "\n",
            "Steps per epoch: 27  Train length: 2405\n",
            "WARNING:tensorflow:From /usr/local/lib/python3.6/dist-packages/tensorflow_core/python/ops/math_grad.py:1424: where (from tensorflow.python.ops.array_ops) is deprecated and will be removed in a future version.\n",
            "Instructions for updating:\n",
            "Use tf.where in 2.0, which has the same broadcast rule as np.where\n",
            "WARNING:tensorflow:From /usr/local/lib/python3.6/dist-packages/keras/backend/tensorflow_backend.py:1033: The name tf.assign_add is deprecated. Please use tf.compat.v1.assign_add instead.\n",
            "\n",
            "WARNING:tensorflow:From /usr/local/lib/python3.6/dist-packages/keras/backend/tensorflow_backend.py:1020: The name tf.assign is deprecated. Please use tf.compat.v1.assign instead.\n",
            "\n",
            "Epoch 1/10\n",
            "27/27 [==============================] - 18s 670ms/step - loss: 0.9406 - acc: 0.6628\n",
            "Epoch 2/10\n",
            "27/27 [==============================] - 14s 522ms/step - loss: 0.5465 - acc: 0.7966\n",
            "Epoch 3/10\n",
            "27/27 [==============================] - 14s 528ms/step - loss: 0.4614 - acc: 0.8143\n",
            "Epoch 4/10\n",
            "27/27 [==============================] - 14s 524ms/step - loss: 0.3986 - acc: 0.8487\n",
            "Epoch 5/10\n",
            "27/27 [==============================] - 14s 525ms/step - loss: 0.3826 - acc: 0.8478\n",
            "Epoch 6/10\n",
            "27/27 [==============================] - 14s 517ms/step - loss: 0.3566 - acc: 0.8577\n",
            "Epoch 7/10\n",
            "27/27 [==============================] - 14s 524ms/step - loss: 0.3216 - acc: 0.8655\n",
            "Epoch 8/10\n",
            "27/27 [==============================] - 14s 523ms/step - loss: 0.3230 - acc: 0.8800\n",
            "Epoch 9/10\n",
            "27/27 [==============================] - 14s 535ms/step - loss: 0.3030 - acc: 0.8735\n",
            "Epoch 10/10\n",
            "27/27 [==============================] - 14s 537ms/step - loss: 0.2672 - acc: 0.8842\n",
            "softplus sgd TestFold { 1 }\n",
            "600/600 [==============================] - 1s 2ms/step\n",
            "Test loss: 0.31944189707438153\n",
            "Test accuracy: 0.8849999992052714 \n",
            "\n"
          ],
          "name": "stdout"
        }
      ]
    },
    {
      "cell_type": "code",
      "metadata": {
        "id": "wZjHPnjYwKLu",
        "colab_type": "code",
        "outputId": "4c4ceb28-2835-4044-ec60-439c200965b8",
        "colab": {
          "base_uri": "https://localhost:8080/",
          "height": 35
        }
      },
      "source": [
        "#Eğitilen modellerin sonuçları\n",
        "scoreses"
      ],
      "execution_count": 0,
      "outputs": [
        {
          "output_type": "execute_result",
          "data": {
            "text/plain": [
              "[[0.31944189707438153, 0.8849999992052714]]"
            ]
          },
          "metadata": {
            "tags": []
          },
          "execution_count": 10
        }
      ]
    },
    {
      "cell_type": "code",
      "metadata": {
        "id": "t_1e8yoFwi3q",
        "colab_type": "code",
        "colab": {}
      },
      "source": [
        "def plot_confusion_matrix(cm, classes,\n",
        "                          normalize=False,\n",
        "                          title='Confusion matrix',cmap=plt.cm.Blues):\n",
        "    \"\"\"\n",
        "    This function prints and plots the confusion matrix.\n",
        "    Normalization can be applied by setting `normalize=True`.\n",
        "    \"\"\"\n",
        "    plt.imshow(cm, interpolation='nearest',cmap=cmap)\n",
        "    plt.title(title)\n",
        "    plt.colorbar()\n",
        "    tick_marks = np.arange(len(classes))\n",
        "    plt.xticks(tick_marks, classes, rotation=45)\n",
        "    plt.yticks(tick_marks, classes)\n",
        "\n",
        "    fmt = '.2f' if normalize else 'd'\n",
        "    thresh = cm.max() / 2.\n",
        "    for i, j in itertools.product(range(cm.shape[0]), range(cm.shape[1])):\n",
        "        plt.text(j, i, format(cm[i, j], fmt),\n",
        "                 horizontalalignment=\"center\",\n",
        "                 color=\"white\" if cm[i, j] > thresh else \"black\")\n",
        "\n",
        "    plt.ylabel('True label')\n",
        "    plt.xlabel('Predicted label')\n",
        "    plt.tight_layout()"
      ],
      "execution_count": 0,
      "outputs": []
    },
    {
      "cell_type": "code",
      "metadata": {
        "id": "4qEOQv7OwkJQ",
        "colab_type": "code",
        "outputId": "1cf28481-ad38-4082-c757-4554c13aa0d1",
        "colab": {
          "base_uri": "https://localhost:8080/",
          "height": 297
        }
      },
      "source": [
        "if(dat=='s'):\n",
        "  class_names=['Acrosome Abnormality','Boya','Sperm'] #['01_Normal','02_Tapered','03_Pyriform','04_Amorphous'] \n",
        "else:\n",
        "  class_names=['01_Normal','02_Tapered','03_Pyriform','04_Amorphous'] \n",
        "  \n",
        "pred = model.predict(test,verbose=0)\n",
        "y_pred = np.argmax(pred, axis=1)\n",
        "y_test = np.argmax(test_label,axis=1)\n",
        "cnf_matrix = confusion_matrix(y_test, y_pred)\n",
        "plot_confusion_matrix(cnf_matrix,classes=class_names,\n",
        "                       normalize=False,\n",
        "                       title='Confusion matrix', cmap=plt.cm.Blues)"
      ],
      "execution_count": 0,
      "outputs": [
        {
          "output_type": "display_data",
          "data": {
            "image/png": "[encoded data removed]",
            "text/plain": [
              "<Figure size 432x288 with 2 Axes>"
            ]
          },
          "metadata": {
            "tags": []
          }
        }
      ]
    },
    {
      "cell_type": "code",
      "metadata": {
        "id": "x6WMACIhvpkF",
        "colab_type": "code",
        "outputId": "3a8ce83b-332b-41a5-d3ca-c22e0cf92a50",
        "colab": {
          "base_uri": "https://localhost:8080/",
          "height": 35
        }
      },
      "source": [
        "#Modeli arayüzde kullanmak için diske kaydedip indiriyoruz\n",
        "model_json = model.to_json()\n",
        "with open('mobil.json', 'w') as json_file:\n",
        "    json_file.write(model_json)\n",
        "# serialize weights to HDF5\n",
        "save_location =\"Mobil_Hushem.h5\"\n",
        "model.save_weights(save_location)\n",
        "print(\"Saved model to disk\")"
      ],
      "execution_count": 0,
      "outputs": [
        {
          "output_type": "stream",
          "text": [
            "Saved model to disk\n"
          ],
          "name": "stdout"
        }
      ]
    }
  ]
}
